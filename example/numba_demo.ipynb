{
 "cells": [
  {
   "cell_type": "code",
   "execution_count": null,
   "id": "initial_id",
   "metadata": {
    "collapsed": true,
    "ExecuteTime": {
     "end_time": "2023-08-23T13:16:48.495357798Z",
     "start_time": "2023-08-23T13:16:48.495135536Z"
    }
   },
   "outputs": [],
   "source": []
  },
  {
   "cell_type": "code",
   "execution_count": 1,
   "outputs": [],
   "source": [
    "import ipywidgets as widgets\n",
    "from IPython.display import display\n",
    "\n",
    "states_slider = widgets.IntSlider(value=10000, min=1000, max=20000, step=1000, description='States:')\n",
    "epochs_slider = widgets.IntSlider(value=1, min=1, max=10, step=1, description='Epochs:')\n",
    "clauses_slider = widgets.IntSlider(value=150, min=50, max=300, step=10, description='Clauses:')\n",
    "runs_slider = widgets.IntSlider(value=100, min=10, max=200, step=10, description='Runs:')\n",
    "pl_slider = widgets.FloatSlider(value=0.6, min=0.1, max=1.0, step=0.1, description='pl:')\n",
    "pu_slider = widgets.FloatSlider(value=0.8, min=0.1, max=1.0, step=0.1, description='pu:')\n"
   ],
   "metadata": {
    "collapsed": false,
    "ExecuteTime": {
     "end_time": "2023-08-23T13:16:48.512964759Z",
     "start_time": "2023-08-23T13:16:48.495481560Z"
    }
   },
   "id": "4df765e4deada894"
  },
  {
   "cell_type": "code",
   "execution_count": 2,
   "outputs": [
    {
     "name": "stderr",
     "output_type": "stream",
     "text": [
      "2023-08-23 15:16:48.668875: I tensorflow/tsl/cuda/cudart_stub.cc:28] Could not find cuda drivers on your machine, GPU will not be used.\n",
      "2023-08-23 15:16:48.699621: I tensorflow/tsl/cuda/cudart_stub.cc:28] Could not find cuda drivers on your machine, GPU will not be used.\n",
      "2023-08-23 15:16:48.700161: I tensorflow/core/platform/cpu_feature_guard.cc:182] This TensorFlow binary is optimized to use available CPU instructions in performance-critical operations.\n",
      "To enable the following instructions: AVX2 FMA, in other operations, rebuild TensorFlow with the appropriate compiler flags.\n",
      "2023-08-23 15:16:49.344192: W tensorflow/compiler/tf2tensorrt/utils/py_utils.cc:38] TF-TRT Warning: Could not find TensorRT\n"
     ]
    },
    {
     "name": "stdout",
     "output_type": "stream",
     "text": [
      "Parameters saved: {'states': 10000, 'epochs': 1, 'clauses': 150, 'runs': 100, 'pl': 0.6, 'pu': 0.8}\n"
     ]
    },
    {
     "data": {
      "text/plain": "IntSlider(value=10000, description='States:', max=20000, min=1000, step=1000)",
      "application/vnd.jupyter.widget-view+json": {
       "version_major": 2,
       "version_minor": 0,
       "model_id": "472643bea8474226ad18e65e9127e95a"
      }
     },
     "metadata": {},
     "output_type": "display_data"
    },
    {
     "data": {
      "text/plain": "IntSlider(value=1, description='Epochs:', max=10, min=1)",
      "application/vnd.jupyter.widget-view+json": {
       "version_major": 2,
       "version_minor": 0,
       "model_id": "2954ff067f1a43e68222f3b1079bee7b"
      }
     },
     "metadata": {},
     "output_type": "display_data"
    },
    {
     "data": {
      "text/plain": "IntSlider(value=150, description='Clauses:', max=300, min=50, step=10)",
      "application/vnd.jupyter.widget-view+json": {
       "version_major": 2,
       "version_minor": 0,
       "model_id": "0bd1e97f23244bbeb7ff6459698a21ab"
      }
     },
     "metadata": {},
     "output_type": "display_data"
    },
    {
     "data": {
      "text/plain": "IntSlider(value=100, description='Runs:', max=200, min=10, step=10)",
      "application/vnd.jupyter.widget-view+json": {
       "version_major": 2,
       "version_minor": 0,
       "model_id": "ecf2ec16dc254b4ba3e66e4ab8025106"
      }
     },
     "metadata": {},
     "output_type": "display_data"
    },
    {
     "data": {
      "text/plain": "FloatSlider(value=0.6, description='pl:', max=1.0, min=0.1)",
      "application/vnd.jupyter.widget-view+json": {
       "version_major": 2,
       "version_minor": 0,
       "model_id": "18155d4d03d54cd3b2a1c2e1c25f54d5"
      }
     },
     "metadata": {},
     "output_type": "display_data"
    },
    {
     "data": {
      "text/plain": "FloatSlider(value=0.8, description='pu:', max=1.0, min=0.1)",
      "application/vnd.jupyter.widget-view+json": {
       "version_major": 2,
       "version_minor": 0,
       "model_id": "360ce320722149768dc5659d3f9dc67b"
      }
     },
     "metadata": {},
     "output_type": "display_data"
    },
    {
     "data": {
      "text/plain": "Button(description='Save Parameters', style=ButtonStyle())",
      "application/vnd.jupyter.widget-view+json": {
       "version_major": 2,
       "version_minor": 0,
       "model_id": "beb333f4fe6a426796dc6f188b132301"
      }
     },
     "metadata": {},
     "output_type": "display_data"
    }
   ],
   "source": [
    "from dpcl_classifier.classifier_numba import run_experiment\n",
    "saved_parameters = None\n",
    "\n",
    "def save_parameters(b):\n",
    "    global saved_parameters\n",
    "    saved_parameters = {\n",
    "        'states': states_slider.value,\n",
    "        'epochs': epochs_slider.value,\n",
    "        'clauses': clauses_slider.value,\n",
    "        'runs': runs_slider.value,\n",
    "        'pl': pl_slider.value,\n",
    "        'pu': pu_slider.value\n",
    "    }\n",
    "    print(\"Parameters saved:\", saved_parameters)\n",
    "\n",
    "# Set defaults\n",
    "save_parameters(None)\n",
    "\n",
    "save_button = widgets.Button(description=\"Save Parameters\")\n",
    "save_button.on_click(save_parameters)\n",
    "\n",
    "display(states_slider, epochs_slider, clauses_slider, runs_slider, pl_slider, pu_slider, save_button)\n"
   ],
   "metadata": {
    "collapsed": false,
    "ExecuteTime": {
     "end_time": "2023-08-23T13:16:50.213973573Z",
     "start_time": "2023-08-23T13:16:48.518191820Z"
    }
   },
   "id": "9ab6473d4260f1a3"
  },
  {
   "cell_type": "code",
   "execution_count": 3,
   "outputs": [
    {
     "name": "stdout",
     "output_type": "stream",
     "text": [
      "Running experiment with saved parameters: {'states': 10000, 'epochs': 1, 'clauses': 150, 'runs': 100, 'pl': 0.6, 'pu': 0.8}\n"
     ]
    },
    {
     "name": "stderr",
     "output_type": "stream",
     "text": [
      "\u001B[32m2023-08-23 15:16:50.518\u001B[0m | \u001B[1mINFO    \u001B[0m | \u001B[36mdpcl_classifier.classifier_numba\u001B[0m:\u001B[36mrun_experiment\u001B[0m:\u001B[36m175\u001B[0m - \u001B[1m-------- Run 0 --------\u001B[0m\n",
      "\u001B[32m2023-08-23 15:16:57.247\u001B[0m | \u001B[1mINFO    \u001B[0m | \u001B[36mdpcl_classifier.classifier_numba\u001B[0m:\u001B[36mrun_experiment\u001B[0m:\u001B[36m185\u001B[0m - \u001B[1mTime = 6.72929573059082\u001B[0m\n",
      "\u001B[32m2023-08-23 15:16:57.248\u001B[0m | \u001B[1mINFO    \u001B[0m | \u001B[36mdpcl_classifier.classifier_numba\u001B[0m:\u001B[36mrun_experiment\u001B[0m:\u001B[36m186\u001B[0m - \u001B[1mAccuracy: 0.5810874704491725\u001B[0m\n",
      "\u001B[32m2023-08-23 15:16:57.248\u001B[0m | \u001B[1mINFO    \u001B[0m | \u001B[36mdpcl_classifier.classifier_numba\u001B[0m:\u001B[36mrun_experiment\u001B[0m:\u001B[36m175\u001B[0m - \u001B[1m-------- Run 1 --------\u001B[0m\n",
      "\u001B[32m2023-08-23 15:17:01.365\u001B[0m | \u001B[1mINFO    \u001B[0m | \u001B[36mdpcl_classifier.classifier_numba\u001B[0m:\u001B[36mrun_experiment\u001B[0m:\u001B[36m185\u001B[0m - \u001B[1mTime = 4.116241693496704\u001B[0m\n",
      "\u001B[32m2023-08-23 15:17:01.365\u001B[0m | \u001B[1mINFO    \u001B[0m | \u001B[36mdpcl_classifier.classifier_numba\u001B[0m:\u001B[36mrun_experiment\u001B[0m:\u001B[36m186\u001B[0m - \u001B[1mAccuracy: 0.5815602836879432\u001B[0m\n",
      "\u001B[32m2023-08-23 15:17:01.366\u001B[0m | \u001B[1mINFO    \u001B[0m | \u001B[36mdpcl_classifier.classifier_numba\u001B[0m:\u001B[36mrun_experiment\u001B[0m:\u001B[36m175\u001B[0m - \u001B[1m-------- Run 2 --------\u001B[0m\n",
      "\u001B[32m2023-08-23 15:17:05.140\u001B[0m | \u001B[1mINFO    \u001B[0m | \u001B[36mdpcl_classifier.classifier_numba\u001B[0m:\u001B[36mrun_experiment\u001B[0m:\u001B[36m185\u001B[0m - \u001B[1mTime = 3.7740588188171387\u001B[0m\n",
      "\u001B[32m2023-08-23 15:17:05.141\u001B[0m | \u001B[1mINFO    \u001B[0m | \u001B[36mdpcl_classifier.classifier_numba\u001B[0m:\u001B[36mrun_experiment\u001B[0m:\u001B[36m186\u001B[0m - \u001B[1mAccuracy: 0.5895981087470449\u001B[0m\n",
      "\u001B[32m2023-08-23 15:17:05.141\u001B[0m | \u001B[1mINFO    \u001B[0m | \u001B[36mdpcl_classifier.classifier_numba\u001B[0m:\u001B[36mrun_experiment\u001B[0m:\u001B[36m175\u001B[0m - \u001B[1m-------- Run 3 --------\u001B[0m\n",
      "\u001B[32m2023-08-23 15:17:08.984\u001B[0m | \u001B[1mINFO    \u001B[0m | \u001B[36mdpcl_classifier.classifier_numba\u001B[0m:\u001B[36mrun_experiment\u001B[0m:\u001B[36m185\u001B[0m - \u001B[1mTime = 3.8426830768585205\u001B[0m\n",
      "\u001B[32m2023-08-23 15:17:08.985\u001B[0m | \u001B[1mINFO    \u001B[0m | \u001B[36mdpcl_classifier.classifier_numba\u001B[0m:\u001B[36mrun_experiment\u001B[0m:\u001B[36m186\u001B[0m - \u001B[1mAccuracy: 0.5872340425531914\u001B[0m\n",
      "\u001B[32m2023-08-23 15:17:08.985\u001B[0m | \u001B[1mINFO    \u001B[0m | \u001B[36mdpcl_classifier.classifier_numba\u001B[0m:\u001B[36mrun_experiment\u001B[0m:\u001B[36m175\u001B[0m - \u001B[1m-------- Run 4 --------\u001B[0m\n",
      "\u001B[32m2023-08-23 15:17:12.642\u001B[0m | \u001B[1mINFO    \u001B[0m | \u001B[36mdpcl_classifier.classifier_numba\u001B[0m:\u001B[36mrun_experiment\u001B[0m:\u001B[36m185\u001B[0m - \u001B[1mTime = 3.656799077987671\u001B[0m\n",
      "\u001B[32m2023-08-23 15:17:12.643\u001B[0m | \u001B[1mINFO    \u001B[0m | \u001B[36mdpcl_classifier.classifier_numba\u001B[0m:\u001B[36mrun_experiment\u001B[0m:\u001B[36m186\u001B[0m - \u001B[1mAccuracy: 0.5881796690307328\u001B[0m\n",
      "\u001B[32m2023-08-23 15:17:12.643\u001B[0m | \u001B[1mINFO    \u001B[0m | \u001B[36mdpcl_classifier.classifier_numba\u001B[0m:\u001B[36mrun_experiment\u001B[0m:\u001B[36m175\u001B[0m - \u001B[1m-------- Run 5 --------\u001B[0m\n",
      "\u001B[32m2023-08-23 15:17:16.398\u001B[0m | \u001B[1mINFO    \u001B[0m | \u001B[36mdpcl_classifier.classifier_numba\u001B[0m:\u001B[36mrun_experiment\u001B[0m:\u001B[36m185\u001B[0m - \u001B[1mTime = 3.7545175552368164\u001B[0m\n",
      "\u001B[32m2023-08-23 15:17:16.398\u001B[0m | \u001B[1mINFO    \u001B[0m | \u001B[36mdpcl_classifier.classifier_numba\u001B[0m:\u001B[36mrun_experiment\u001B[0m:\u001B[36m186\u001B[0m - \u001B[1mAccuracy: 0.5886524822695035\u001B[0m\n",
      "\u001B[32m2023-08-23 15:17:16.399\u001B[0m | \u001B[1mINFO    \u001B[0m | \u001B[36mdpcl_classifier.classifier_numba\u001B[0m:\u001B[36mrun_experiment\u001B[0m:\u001B[36m175\u001B[0m - \u001B[1m-------- Run 6 --------\u001B[0m\n",
      "\u001B[32m2023-08-23 15:17:20.475\u001B[0m | \u001B[1mINFO    \u001B[0m | \u001B[36mdpcl_classifier.classifier_numba\u001B[0m:\u001B[36mrun_experiment\u001B[0m:\u001B[36m185\u001B[0m - \u001B[1mTime = 4.075345754623413\u001B[0m\n",
      "\u001B[32m2023-08-23 15:17:20.475\u001B[0m | \u001B[1mINFO    \u001B[0m | \u001B[36mdpcl_classifier.classifier_numba\u001B[0m:\u001B[36mrun_experiment\u001B[0m:\u001B[36m186\u001B[0m - \u001B[1mAccuracy: 0.5910165484633569\u001B[0m\n",
      "\u001B[32m2023-08-23 15:17:20.475\u001B[0m | \u001B[1mINFO    \u001B[0m | \u001B[36mdpcl_classifier.classifier_numba\u001B[0m:\u001B[36mrun_experiment\u001B[0m:\u001B[36m175\u001B[0m - \u001B[1m-------- Run 7 --------\u001B[0m\n",
      "\u001B[32m2023-08-23 15:17:24.216\u001B[0m | \u001B[1mINFO    \u001B[0m | \u001B[36mdpcl_classifier.classifier_numba\u001B[0m:\u001B[36mrun_experiment\u001B[0m:\u001B[36m185\u001B[0m - \u001B[1mTime = 3.7399706840515137\u001B[0m\n",
      "\u001B[32m2023-08-23 15:17:24.216\u001B[0m | \u001B[1mINFO    \u001B[0m | \u001B[36mdpcl_classifier.classifier_numba\u001B[0m:\u001B[36mrun_experiment\u001B[0m:\u001B[36m186\u001B[0m - \u001B[1mAccuracy: 0.5891252955082742\u001B[0m\n",
      "\u001B[32m2023-08-23 15:17:24.217\u001B[0m | \u001B[1mINFO    \u001B[0m | \u001B[36mdpcl_classifier.classifier_numba\u001B[0m:\u001B[36mrun_experiment\u001B[0m:\u001B[36m175\u001B[0m - \u001B[1m-------- Run 8 --------\u001B[0m\n",
      "\u001B[32m2023-08-23 15:17:27.943\u001B[0m | \u001B[1mINFO    \u001B[0m | \u001B[36mdpcl_classifier.classifier_numba\u001B[0m:\u001B[36mrun_experiment\u001B[0m:\u001B[36m185\u001B[0m - \u001B[1mTime = 3.7258944511413574\u001B[0m\n",
      "\u001B[32m2023-08-23 15:17:27.944\u001B[0m | \u001B[1mINFO    \u001B[0m | \u001B[36mdpcl_classifier.classifier_numba\u001B[0m:\u001B[36mrun_experiment\u001B[0m:\u001B[36m186\u001B[0m - \u001B[1mAccuracy: 0.5910165484633569\u001B[0m\n",
      "\u001B[32m2023-08-23 15:17:27.944\u001B[0m | \u001B[1mINFO    \u001B[0m | \u001B[36mdpcl_classifier.classifier_numba\u001B[0m:\u001B[36mrun_experiment\u001B[0m:\u001B[36m175\u001B[0m - \u001B[1m-------- Run 9 --------\u001B[0m\n",
      "\u001B[32m2023-08-23 15:17:31.537\u001B[0m | \u001B[1mINFO    \u001B[0m | \u001B[36mdpcl_classifier.classifier_numba\u001B[0m:\u001B[36mrun_experiment\u001B[0m:\u001B[36m185\u001B[0m - \u001B[1mTime = 3.5926835536956787\u001B[0m\n",
      "\u001B[32m2023-08-23 15:17:31.538\u001B[0m | \u001B[1mINFO    \u001B[0m | \u001B[36mdpcl_classifier.classifier_numba\u001B[0m:\u001B[36mrun_experiment\u001B[0m:\u001B[36m186\u001B[0m - \u001B[1mAccuracy: 0.5858156028368794\u001B[0m\n",
      "\u001B[32m2023-08-23 15:17:31.538\u001B[0m | \u001B[1mINFO    \u001B[0m | \u001B[36mdpcl_classifier.classifier_numba\u001B[0m:\u001B[36mrun_experiment\u001B[0m:\u001B[36m175\u001B[0m - \u001B[1m-------- Run 10 --------\u001B[0m\n",
      "\u001B[32m2023-08-23 15:17:35.235\u001B[0m | \u001B[1mINFO    \u001B[0m | \u001B[36mdpcl_classifier.classifier_numba\u001B[0m:\u001B[36mrun_experiment\u001B[0m:\u001B[36m185\u001B[0m - \u001B[1mTime = 3.6969406604766846\u001B[0m\n",
      "\u001B[32m2023-08-23 15:17:35.236\u001B[0m | \u001B[1mINFO    \u001B[0m | \u001B[36mdpcl_classifier.classifier_numba\u001B[0m:\u001B[36mrun_experiment\u001B[0m:\u001B[36m186\u001B[0m - \u001B[1mAccuracy: 0.5763593380614658\u001B[0m\n",
      "\u001B[32m2023-08-23 15:17:35.236\u001B[0m | \u001B[1mINFO    \u001B[0m | \u001B[36mdpcl_classifier.classifier_numba\u001B[0m:\u001B[36mrun_experiment\u001B[0m:\u001B[36m175\u001B[0m - \u001B[1m-------- Run 11 --------\u001B[0m\n",
      "\u001B[32m2023-08-23 15:17:39.011\u001B[0m | \u001B[1mINFO    \u001B[0m | \u001B[36mdpcl_classifier.classifier_numba\u001B[0m:\u001B[36mrun_experiment\u001B[0m:\u001B[36m185\u001B[0m - \u001B[1mTime = 3.774768590927124\u001B[0m\n",
      "\u001B[32m2023-08-23 15:17:39.012\u001B[0m | \u001B[1mINFO    \u001B[0m | \u001B[36mdpcl_classifier.classifier_numba\u001B[0m:\u001B[36mrun_experiment\u001B[0m:\u001B[36m186\u001B[0m - \u001B[1mAccuracy: 0.5886524822695035\u001B[0m\n",
      "\u001B[32m2023-08-23 15:17:39.012\u001B[0m | \u001B[1mINFO    \u001B[0m | \u001B[36mdpcl_classifier.classifier_numba\u001B[0m:\u001B[36mrun_experiment\u001B[0m:\u001B[36m175\u001B[0m - \u001B[1m-------- Run 12 --------\u001B[0m\n",
      "\u001B[32m2023-08-23 15:17:43.070\u001B[0m | \u001B[1mINFO    \u001B[0m | \u001B[36mdpcl_classifier.classifier_numba\u001B[0m:\u001B[36mrun_experiment\u001B[0m:\u001B[36m185\u001B[0m - \u001B[1mTime = 4.057527780532837\u001B[0m\n",
      "\u001B[32m2023-08-23 15:17:43.070\u001B[0m | \u001B[1mINFO    \u001B[0m | \u001B[36mdpcl_classifier.classifier_numba\u001B[0m:\u001B[36mrun_experiment\u001B[0m:\u001B[36m186\u001B[0m - \u001B[1mAccuracy: 0.5886524822695035\u001B[0m\n",
      "\u001B[32m2023-08-23 15:17:43.071\u001B[0m | \u001B[1mINFO    \u001B[0m | \u001B[36mdpcl_classifier.classifier_numba\u001B[0m:\u001B[36mrun_experiment\u001B[0m:\u001B[36m175\u001B[0m - \u001B[1m-------- Run 13 --------\u001B[0m\n",
      "\u001B[32m2023-08-23 15:17:46.785\u001B[0m | \u001B[1mINFO    \u001B[0m | \u001B[36mdpcl_classifier.classifier_numba\u001B[0m:\u001B[36mrun_experiment\u001B[0m:\u001B[36m185\u001B[0m - \u001B[1mTime = 3.7136919498443604\u001B[0m\n",
      "\u001B[32m2023-08-23 15:17:46.786\u001B[0m | \u001B[1mINFO    \u001B[0m | \u001B[36mdpcl_classifier.classifier_numba\u001B[0m:\u001B[36mrun_experiment\u001B[0m:\u001B[36m186\u001B[0m - \u001B[1mAccuracy: 0.5810874704491725\u001B[0m\n",
      "\u001B[32m2023-08-23 15:17:46.786\u001B[0m | \u001B[1mINFO    \u001B[0m | \u001B[36mdpcl_classifier.classifier_numba\u001B[0m:\u001B[36mrun_experiment\u001B[0m:\u001B[36m175\u001B[0m - \u001B[1m-------- Run 14 --------\u001B[0m\n",
      "\u001B[32m2023-08-23 15:17:50.577\u001B[0m | \u001B[1mINFO    \u001B[0m | \u001B[36mdpcl_classifier.classifier_numba\u001B[0m:\u001B[36mrun_experiment\u001B[0m:\u001B[36m185\u001B[0m - \u001B[1mTime = 3.7907397747039795\u001B[0m\n",
      "\u001B[32m2023-08-23 15:17:50.578\u001B[0m | \u001B[1mINFO    \u001B[0m | \u001B[36mdpcl_classifier.classifier_numba\u001B[0m:\u001B[36mrun_experiment\u001B[0m:\u001B[36m186\u001B[0m - \u001B[1mAccuracy: 0.5933806146572104\u001B[0m\n",
      "\u001B[32m2023-08-23 15:17:50.578\u001B[0m | \u001B[1mINFO    \u001B[0m | \u001B[36mdpcl_classifier.classifier_numba\u001B[0m:\u001B[36mrun_experiment\u001B[0m:\u001B[36m175\u001B[0m - \u001B[1m-------- Run 15 --------\u001B[0m\n",
      "\u001B[32m2023-08-23 15:17:54.533\u001B[0m | \u001B[1mINFO    \u001B[0m | \u001B[36mdpcl_classifier.classifier_numba\u001B[0m:\u001B[36mrun_experiment\u001B[0m:\u001B[36m185\u001B[0m - \u001B[1mTime = 3.9545323848724365\u001B[0m\n",
      "\u001B[32m2023-08-23 15:17:54.534\u001B[0m | \u001B[1mINFO    \u001B[0m | \u001B[36mdpcl_classifier.classifier_numba\u001B[0m:\u001B[36mrun_experiment\u001B[0m:\u001B[36m186\u001B[0m - \u001B[1mAccuracy: 0.5825059101654846\u001B[0m\n",
      "\u001B[32m2023-08-23 15:17:54.534\u001B[0m | \u001B[1mINFO    \u001B[0m | \u001B[36mdpcl_classifier.classifier_numba\u001B[0m:\u001B[36mrun_experiment\u001B[0m:\u001B[36m175\u001B[0m - \u001B[1m-------- Run 16 --------\u001B[0m\n",
      "\u001B[32m2023-08-23 15:17:58.401\u001B[0m | \u001B[1mINFO    \u001B[0m | \u001B[36mdpcl_classifier.classifier_numba\u001B[0m:\u001B[36mrun_experiment\u001B[0m:\u001B[36m185\u001B[0m - \u001B[1mTime = 3.8664519786834717\u001B[0m\n",
      "\u001B[32m2023-08-23 15:17:58.402\u001B[0m | \u001B[1mINFO    \u001B[0m | \u001B[36mdpcl_classifier.classifier_numba\u001B[0m:\u001B[36mrun_experiment\u001B[0m:\u001B[36m186\u001B[0m - \u001B[1mAccuracy: 0.5787234042553191\u001B[0m\n",
      "\u001B[32m2023-08-23 15:17:58.402\u001B[0m | \u001B[1mINFO    \u001B[0m | \u001B[36mdpcl_classifier.classifier_numba\u001B[0m:\u001B[36mrun_experiment\u001B[0m:\u001B[36m175\u001B[0m - \u001B[1m-------- Run 17 --------\u001B[0m\n",
      "\u001B[32m2023-08-23 15:18:02.267\u001B[0m | \u001B[1mINFO    \u001B[0m | \u001B[36mdpcl_classifier.classifier_numba\u001B[0m:\u001B[36mrun_experiment\u001B[0m:\u001B[36m185\u001B[0m - \u001B[1mTime = 3.864677906036377\u001B[0m\n",
      "\u001B[32m2023-08-23 15:18:02.267\u001B[0m | \u001B[1mINFO    \u001B[0m | \u001B[36mdpcl_classifier.classifier_numba\u001B[0m:\u001B[36mrun_experiment\u001B[0m:\u001B[36m186\u001B[0m - \u001B[1mAccuracy: 0.5810874704491725\u001B[0m\n",
      "\u001B[32m2023-08-23 15:18:02.268\u001B[0m | \u001B[1mINFO    \u001B[0m | \u001B[36mdpcl_classifier.classifier_numba\u001B[0m:\u001B[36mrun_experiment\u001B[0m:\u001B[36m175\u001B[0m - \u001B[1m-------- Run 18 --------\u001B[0m\n",
      "\u001B[32m2023-08-23 15:18:06.056\u001B[0m | \u001B[1mINFO    \u001B[0m | \u001B[36mdpcl_classifier.classifier_numba\u001B[0m:\u001B[36mrun_experiment\u001B[0m:\u001B[36m185\u001B[0m - \u001B[1mTime = 3.7879421710968018\u001B[0m\n",
      "\u001B[32m2023-08-23 15:18:06.057\u001B[0m | \u001B[1mINFO    \u001B[0m | \u001B[36mdpcl_classifier.classifier_numba\u001B[0m:\u001B[36mrun_experiment\u001B[0m:\u001B[36m186\u001B[0m - \u001B[1mAccuracy: 0.5853427895981087\u001B[0m\n",
      "\u001B[32m2023-08-23 15:18:06.058\u001B[0m | \u001B[1mINFO    \u001B[0m | \u001B[36mdpcl_classifier.classifier_numba\u001B[0m:\u001B[36mrun_experiment\u001B[0m:\u001B[36m175\u001B[0m - \u001B[1m-------- Run 19 --------\u001B[0m\n",
      "\u001B[32m2023-08-23 15:18:09.955\u001B[0m | \u001B[1mINFO    \u001B[0m | \u001B[36mdpcl_classifier.classifier_numba\u001B[0m:\u001B[36mrun_experiment\u001B[0m:\u001B[36m185\u001B[0m - \u001B[1mTime = 3.8971896171569824\u001B[0m\n",
      "\u001B[32m2023-08-23 15:18:09.956\u001B[0m | \u001B[1mINFO    \u001B[0m | \u001B[36mdpcl_classifier.classifier_numba\u001B[0m:\u001B[36mrun_experiment\u001B[0m:\u001B[36m186\u001B[0m - \u001B[1mAccuracy: 0.5853427895981087\u001B[0m\n",
      "\u001B[32m2023-08-23 15:18:09.956\u001B[0m | \u001B[1mINFO    \u001B[0m | \u001B[36mdpcl_classifier.classifier_numba\u001B[0m:\u001B[36mrun_experiment\u001B[0m:\u001B[36m175\u001B[0m - \u001B[1m-------- Run 20 --------\u001B[0m\n",
      "\u001B[32m2023-08-23 15:18:13.708\u001B[0m | \u001B[1mINFO    \u001B[0m | \u001B[36mdpcl_classifier.classifier_numba\u001B[0m:\u001B[36mrun_experiment\u001B[0m:\u001B[36m185\u001B[0m - \u001B[1mTime = 3.751173734664917\u001B[0m\n",
      "\u001B[32m2023-08-23 15:18:13.708\u001B[0m | \u001B[1mINFO    \u001B[0m | \u001B[36mdpcl_classifier.classifier_numba\u001B[0m:\u001B[36mrun_experiment\u001B[0m:\u001B[36m186\u001B[0m - \u001B[1mAccuracy: 0.5862884160756501\u001B[0m\n",
      "\u001B[32m2023-08-23 15:18:13.708\u001B[0m | \u001B[1mINFO    \u001B[0m | \u001B[36mdpcl_classifier.classifier_numba\u001B[0m:\u001B[36mrun_experiment\u001B[0m:\u001B[36m175\u001B[0m - \u001B[1m-------- Run 21 --------\u001B[0m\n",
      "\u001B[32m2023-08-23 15:18:17.437\u001B[0m | \u001B[1mINFO    \u001B[0m | \u001B[36mdpcl_classifier.classifier_numba\u001B[0m:\u001B[36mrun_experiment\u001B[0m:\u001B[36m185\u001B[0m - \u001B[1mTime = 3.7278389930725098\u001B[0m\n",
      "\u001B[32m2023-08-23 15:18:17.437\u001B[0m | \u001B[1mINFO    \u001B[0m | \u001B[36mdpcl_classifier.classifier_numba\u001B[0m:\u001B[36mrun_experiment\u001B[0m:\u001B[36m186\u001B[0m - \u001B[1mAccuracy: 0.5787234042553191\u001B[0m\n",
      "\u001B[32m2023-08-23 15:18:17.437\u001B[0m | \u001B[1mINFO    \u001B[0m | \u001B[36mdpcl_classifier.classifier_numba\u001B[0m:\u001B[36mrun_experiment\u001B[0m:\u001B[36m175\u001B[0m - \u001B[1m-------- Run 22 --------\u001B[0m\n",
      "\u001B[32m2023-08-23 15:18:21.165\u001B[0m | \u001B[1mINFO    \u001B[0m | \u001B[36mdpcl_classifier.classifier_numba\u001B[0m:\u001B[36mrun_experiment\u001B[0m:\u001B[36m185\u001B[0m - \u001B[1mTime = 3.727374792098999\u001B[0m\n",
      "\u001B[32m2023-08-23 15:18:21.166\u001B[0m | \u001B[1mINFO    \u001B[0m | \u001B[36mdpcl_classifier.classifier_numba\u001B[0m:\u001B[36mrun_experiment\u001B[0m:\u001B[36m186\u001B[0m - \u001B[1mAccuracy: 0.5858156028368794\u001B[0m\n",
      "\u001B[32m2023-08-23 15:18:21.166\u001B[0m | \u001B[1mINFO    \u001B[0m | \u001B[36mdpcl_classifier.classifier_numba\u001B[0m:\u001B[36mrun_experiment\u001B[0m:\u001B[36m175\u001B[0m - \u001B[1m-------- Run 23 --------\u001B[0m\n",
      "\u001B[32m2023-08-23 15:18:24.953\u001B[0m | \u001B[1mINFO    \u001B[0m | \u001B[36mdpcl_classifier.classifier_numba\u001B[0m:\u001B[36mrun_experiment\u001B[0m:\u001B[36m185\u001B[0m - \u001B[1mTime = 3.786632776260376\u001B[0m\n",
      "\u001B[32m2023-08-23 15:18:24.954\u001B[0m | \u001B[1mINFO    \u001B[0m | \u001B[36mdpcl_classifier.classifier_numba\u001B[0m:\u001B[36mrun_experiment\u001B[0m:\u001B[36m186\u001B[0m - \u001B[1mAccuracy: 0.5891252955082742\u001B[0m\n",
      "\u001B[32m2023-08-23 15:18:24.954\u001B[0m | \u001B[1mINFO    \u001B[0m | \u001B[36mdpcl_classifier.classifier_numba\u001B[0m:\u001B[36mrun_experiment\u001B[0m:\u001B[36m175\u001B[0m - \u001B[1m-------- Run 24 --------\u001B[0m\n",
      "\u001B[32m2023-08-23 15:18:28.719\u001B[0m | \u001B[1mINFO    \u001B[0m | \u001B[36mdpcl_classifier.classifier_numba\u001B[0m:\u001B[36mrun_experiment\u001B[0m:\u001B[36m185\u001B[0m - \u001B[1mTime = 3.7647762298583984\u001B[0m\n",
      "\u001B[32m2023-08-23 15:18:28.720\u001B[0m | \u001B[1mINFO    \u001B[0m | \u001B[36mdpcl_classifier.classifier_numba\u001B[0m:\u001B[36mrun_experiment\u001B[0m:\u001B[36m186\u001B[0m - \u001B[1mAccuracy: 0.5900709219858156\u001B[0m\n",
      "\u001B[32m2023-08-23 15:18:28.720\u001B[0m | \u001B[1mINFO    \u001B[0m | \u001B[36mdpcl_classifier.classifier_numba\u001B[0m:\u001B[36mrun_experiment\u001B[0m:\u001B[36m175\u001B[0m - \u001B[1m-------- Run 25 --------\u001B[0m\n",
      "\u001B[32m2023-08-23 15:18:32.384\u001B[0m | \u001B[1mINFO    \u001B[0m | \u001B[36mdpcl_classifier.classifier_numba\u001B[0m:\u001B[36mrun_experiment\u001B[0m:\u001B[36m185\u001B[0m - \u001B[1mTime = 3.6637558937072754\u001B[0m\n",
      "\u001B[32m2023-08-23 15:18:32.385\u001B[0m | \u001B[1mINFO    \u001B[0m | \u001B[36mdpcl_classifier.classifier_numba\u001B[0m:\u001B[36mrun_experiment\u001B[0m:\u001B[36m186\u001B[0m - \u001B[1mAccuracy: 0.5895981087470449\u001B[0m\n",
      "\u001B[32m2023-08-23 15:18:32.385\u001B[0m | \u001B[1mINFO    \u001B[0m | \u001B[36mdpcl_classifier.classifier_numba\u001B[0m:\u001B[36mrun_experiment\u001B[0m:\u001B[36m175\u001B[0m - \u001B[1m-------- Run 26 --------\u001B[0m\n",
      "\u001B[32m2023-08-23 15:18:36.105\u001B[0m | \u001B[1mINFO    \u001B[0m | \u001B[36mdpcl_classifier.classifier_numba\u001B[0m:\u001B[36mrun_experiment\u001B[0m:\u001B[36m185\u001B[0m - \u001B[1mTime = 3.7195544242858887\u001B[0m\n",
      "\u001B[32m2023-08-23 15:18:36.105\u001B[0m | \u001B[1mINFO    \u001B[0m | \u001B[36mdpcl_classifier.classifier_numba\u001B[0m:\u001B[36mrun_experiment\u001B[0m:\u001B[36m186\u001B[0m - \u001B[1mAccuracy: 0.5929078014184397\u001B[0m\n",
      "\u001B[32m2023-08-23 15:18:36.106\u001B[0m | \u001B[1mINFO    \u001B[0m | \u001B[36mdpcl_classifier.classifier_numba\u001B[0m:\u001B[36mrun_experiment\u001B[0m:\u001B[36m175\u001B[0m - \u001B[1m-------- Run 27 --------\u001B[0m\n",
      "\u001B[32m2023-08-23 15:18:39.817\u001B[0m | \u001B[1mINFO    \u001B[0m | \u001B[36mdpcl_classifier.classifier_numba\u001B[0m:\u001B[36mrun_experiment\u001B[0m:\u001B[36m185\u001B[0m - \u001B[1mTime = 3.711212158203125\u001B[0m\n",
      "\u001B[32m2023-08-23 15:18:39.818\u001B[0m | \u001B[1mINFO    \u001B[0m | \u001B[36mdpcl_classifier.classifier_numba\u001B[0m:\u001B[36mrun_experiment\u001B[0m:\u001B[36m186\u001B[0m - \u001B[1mAccuracy: 0.5891252955082742\u001B[0m\n",
      "\u001B[32m2023-08-23 15:18:39.818\u001B[0m | \u001B[1mINFO    \u001B[0m | \u001B[36mdpcl_classifier.classifier_numba\u001B[0m:\u001B[36mrun_experiment\u001B[0m:\u001B[36m175\u001B[0m - \u001B[1m-------- Run 28 --------\u001B[0m\n",
      "\u001B[32m2023-08-23 15:18:43.599\u001B[0m | \u001B[1mINFO    \u001B[0m | \u001B[36mdpcl_classifier.classifier_numba\u001B[0m:\u001B[36mrun_experiment\u001B[0m:\u001B[36m185\u001B[0m - \u001B[1mTime = 3.781052589416504\u001B[0m\n",
      "\u001B[32m2023-08-23 15:18:43.600\u001B[0m | \u001B[1mINFO    \u001B[0m | \u001B[36mdpcl_classifier.classifier_numba\u001B[0m:\u001B[36mrun_experiment\u001B[0m:\u001B[36m186\u001B[0m - \u001B[1mAccuracy: 0.5886524822695035\u001B[0m\n",
      "\u001B[32m2023-08-23 15:18:43.600\u001B[0m | \u001B[1mINFO    \u001B[0m | \u001B[36mdpcl_classifier.classifier_numba\u001B[0m:\u001B[36mrun_experiment\u001B[0m:\u001B[36m175\u001B[0m - \u001B[1m-------- Run 29 --------\u001B[0m\n",
      "\u001B[32m2023-08-23 15:18:47.383\u001B[0m | \u001B[1mINFO    \u001B[0m | \u001B[36mdpcl_classifier.classifier_numba\u001B[0m:\u001B[36mrun_experiment\u001B[0m:\u001B[36m185\u001B[0m - \u001B[1mTime = 3.782959222793579\u001B[0m\n",
      "\u001B[32m2023-08-23 15:18:47.384\u001B[0m | \u001B[1mINFO    \u001B[0m | \u001B[36mdpcl_classifier.classifier_numba\u001B[0m:\u001B[36mrun_experiment\u001B[0m:\u001B[36m186\u001B[0m - \u001B[1mAccuracy: 0.5872340425531914\u001B[0m\n",
      "\u001B[32m2023-08-23 15:18:47.384\u001B[0m | \u001B[1mINFO    \u001B[0m | \u001B[36mdpcl_classifier.classifier_numba\u001B[0m:\u001B[36mrun_experiment\u001B[0m:\u001B[36m175\u001B[0m - \u001B[1m-------- Run 30 --------\u001B[0m\n",
      "\u001B[32m2023-08-23 15:18:51.197\u001B[0m | \u001B[1mINFO    \u001B[0m | \u001B[36mdpcl_classifier.classifier_numba\u001B[0m:\u001B[36mrun_experiment\u001B[0m:\u001B[36m185\u001B[0m - \u001B[1mTime = 3.81241774559021\u001B[0m\n",
      "\u001B[32m2023-08-23 15:18:51.197\u001B[0m | \u001B[1mINFO    \u001B[0m | \u001B[36mdpcl_classifier.classifier_numba\u001B[0m:\u001B[36mrun_experiment\u001B[0m:\u001B[36m186\u001B[0m - \u001B[1mAccuracy: 0.5739952718676123\u001B[0m\n",
      "\u001B[32m2023-08-23 15:18:51.198\u001B[0m | \u001B[1mINFO    \u001B[0m | \u001B[36mdpcl_classifier.classifier_numba\u001B[0m:\u001B[36mrun_experiment\u001B[0m:\u001B[36m175\u001B[0m - \u001B[1m-------- Run 31 --------\u001B[0m\n",
      "\u001B[32m2023-08-23 15:18:55.014\u001B[0m | \u001B[1mINFO    \u001B[0m | \u001B[36mdpcl_classifier.classifier_numba\u001B[0m:\u001B[36mrun_experiment\u001B[0m:\u001B[36m185\u001B[0m - \u001B[1mTime = 3.8156111240386963\u001B[0m\n",
      "\u001B[32m2023-08-23 15:18:55.014\u001B[0m | \u001B[1mINFO    \u001B[0m | \u001B[36mdpcl_classifier.classifier_numba\u001B[0m:\u001B[36mrun_experiment\u001B[0m:\u001B[36m186\u001B[0m - \u001B[1mAccuracy: 0.5891252955082742\u001B[0m\n",
      "\u001B[32m2023-08-23 15:18:55.015\u001B[0m | \u001B[1mINFO    \u001B[0m | \u001B[36mdpcl_classifier.classifier_numba\u001B[0m:\u001B[36mrun_experiment\u001B[0m:\u001B[36m175\u001B[0m - \u001B[1m-------- Run 32 --------\u001B[0m\n",
      "\u001B[32m2023-08-23 15:18:58.706\u001B[0m | \u001B[1mINFO    \u001B[0m | \u001B[36mdpcl_classifier.classifier_numba\u001B[0m:\u001B[36mrun_experiment\u001B[0m:\u001B[36m185\u001B[0m - \u001B[1mTime = 3.6907737255096436\u001B[0m\n",
      "\u001B[32m2023-08-23 15:18:58.706\u001B[0m | \u001B[1mINFO    \u001B[0m | \u001B[36mdpcl_classifier.classifier_numba\u001B[0m:\u001B[36mrun_experiment\u001B[0m:\u001B[36m186\u001B[0m - \u001B[1mAccuracy: 0.5758865248226951\u001B[0m\n",
      "\u001B[32m2023-08-23 15:18:58.707\u001B[0m | \u001B[1mINFO    \u001B[0m | \u001B[36mdpcl_classifier.classifier_numba\u001B[0m:\u001B[36mrun_experiment\u001B[0m:\u001B[36m175\u001B[0m - \u001B[1m-------- Run 33 --------\u001B[0m\n",
      "\u001B[32m2023-08-23 15:19:02.418\u001B[0m | \u001B[1mINFO    \u001B[0m | \u001B[36mdpcl_classifier.classifier_numba\u001B[0m:\u001B[36mrun_experiment\u001B[0m:\u001B[36m185\u001B[0m - \u001B[1mTime = 3.711143970489502\u001B[0m\n",
      "\u001B[32m2023-08-23 15:19:02.419\u001B[0m | \u001B[1mINFO    \u001B[0m | \u001B[36mdpcl_classifier.classifier_numba\u001B[0m:\u001B[36mrun_experiment\u001B[0m:\u001B[36m186\u001B[0m - \u001B[1mAccuracy: 0.5867612293144208\u001B[0m\n",
      "\u001B[32m2023-08-23 15:19:02.419\u001B[0m | \u001B[1mINFO    \u001B[0m | \u001B[36mdpcl_classifier.classifier_numba\u001B[0m:\u001B[36mrun_experiment\u001B[0m:\u001B[36m175\u001B[0m - \u001B[1m-------- Run 34 --------\u001B[0m\n",
      "\u001B[32m2023-08-23 15:19:06.213\u001B[0m | \u001B[1mINFO    \u001B[0m | \u001B[36mdpcl_classifier.classifier_numba\u001B[0m:\u001B[36mrun_experiment\u001B[0m:\u001B[36m185\u001B[0m - \u001B[1mTime = 3.7930431365966797\u001B[0m\n",
      "\u001B[32m2023-08-23 15:19:06.213\u001B[0m | \u001B[1mINFO    \u001B[0m | \u001B[36mdpcl_classifier.classifier_numba\u001B[0m:\u001B[36mrun_experiment\u001B[0m:\u001B[36m186\u001B[0m - \u001B[1mAccuracy: 0.5810874704491725\u001B[0m\n",
      "\u001B[32m2023-08-23 15:19:06.214\u001B[0m | \u001B[1mINFO    \u001B[0m | \u001B[36mdpcl_classifier.classifier_numba\u001B[0m:\u001B[36mrun_experiment\u001B[0m:\u001B[36m175\u001B[0m - \u001B[1m-------- Run 35 --------\u001B[0m\n",
      "\u001B[32m2023-08-23 15:19:10.047\u001B[0m | \u001B[1mINFO    \u001B[0m | \u001B[36mdpcl_classifier.classifier_numba\u001B[0m:\u001B[36mrun_experiment\u001B[0m:\u001B[36m185\u001B[0m - \u001B[1mTime = 3.8326539993286133\u001B[0m\n",
      "\u001B[32m2023-08-23 15:19:10.047\u001B[0m | \u001B[1mINFO    \u001B[0m | \u001B[36mdpcl_classifier.classifier_numba\u001B[0m:\u001B[36mrun_experiment\u001B[0m:\u001B[36m186\u001B[0m - \u001B[1mAccuracy: 0.5810874704491725\u001B[0m\n",
      "\u001B[32m2023-08-23 15:19:10.048\u001B[0m | \u001B[1mINFO    \u001B[0m | \u001B[36mdpcl_classifier.classifier_numba\u001B[0m:\u001B[36mrun_experiment\u001B[0m:\u001B[36m175\u001B[0m - \u001B[1m-------- Run 36 --------\u001B[0m\n",
      "\u001B[32m2023-08-23 15:19:13.838\u001B[0m | \u001B[1mINFO    \u001B[0m | \u001B[36mdpcl_classifier.classifier_numba\u001B[0m:\u001B[36mrun_experiment\u001B[0m:\u001B[36m185\u001B[0m - \u001B[1mTime = 3.7894978523254395\u001B[0m\n",
      "\u001B[32m2023-08-23 15:19:13.838\u001B[0m | \u001B[1mINFO    \u001B[0m | \u001B[36mdpcl_classifier.classifier_numba\u001B[0m:\u001B[36mrun_experiment\u001B[0m:\u001B[36m186\u001B[0m - \u001B[1mAccuracy: 0.5806146572104018\u001B[0m\n",
      "\u001B[32m2023-08-23 15:19:13.838\u001B[0m | \u001B[1mINFO    \u001B[0m | \u001B[36mdpcl_classifier.classifier_numba\u001B[0m:\u001B[36mrun_experiment\u001B[0m:\u001B[36m175\u001B[0m - \u001B[1m-------- Run 37 --------\u001B[0m\n",
      "\u001B[32m2023-08-23 15:19:17.573\u001B[0m | \u001B[1mINFO    \u001B[0m | \u001B[36mdpcl_classifier.classifier_numba\u001B[0m:\u001B[36mrun_experiment\u001B[0m:\u001B[36m185\u001B[0m - \u001B[1mTime = 3.7341034412384033\u001B[0m\n",
      "\u001B[32m2023-08-23 15:19:17.573\u001B[0m | \u001B[1mINFO    \u001B[0m | \u001B[36mdpcl_classifier.classifier_numba\u001B[0m:\u001B[36mrun_experiment\u001B[0m:\u001B[36m186\u001B[0m - \u001B[1mAccuracy: 0.5758865248226951\u001B[0m\n",
      "\u001B[32m2023-08-23 15:19:17.574\u001B[0m | \u001B[1mINFO    \u001B[0m | \u001B[36mdpcl_classifier.classifier_numba\u001B[0m:\u001B[36mrun_experiment\u001B[0m:\u001B[36m175\u001B[0m - \u001B[1m-------- Run 38 --------\u001B[0m\n",
      "\u001B[32m2023-08-23 15:19:21.240\u001B[0m | \u001B[1mINFO    \u001B[0m | \u001B[36mdpcl_classifier.classifier_numba\u001B[0m:\u001B[36mrun_experiment\u001B[0m:\u001B[36m185\u001B[0m - \u001B[1mTime = 3.665592670440674\u001B[0m\n",
      "\u001B[32m2023-08-23 15:19:21.240\u001B[0m | \u001B[1mINFO    \u001B[0m | \u001B[36mdpcl_classifier.classifier_numba\u001B[0m:\u001B[36mrun_experiment\u001B[0m:\u001B[36m186\u001B[0m - \u001B[1mAccuracy: 0.584869976359338\u001B[0m\n",
      "\u001B[32m2023-08-23 15:19:21.240\u001B[0m | \u001B[1mINFO    \u001B[0m | \u001B[36mdpcl_classifier.classifier_numba\u001B[0m:\u001B[36mrun_experiment\u001B[0m:\u001B[36m175\u001B[0m - \u001B[1m-------- Run 39 --------\u001B[0m\n",
      "\u001B[32m2023-08-23 15:19:25.185\u001B[0m | \u001B[1mINFO    \u001B[0m | \u001B[36mdpcl_classifier.classifier_numba\u001B[0m:\u001B[36mrun_experiment\u001B[0m:\u001B[36m185\u001B[0m - \u001B[1mTime = 3.944549798965454\u001B[0m\n",
      "\u001B[32m2023-08-23 15:19:25.186\u001B[0m | \u001B[1mINFO    \u001B[0m | \u001B[36mdpcl_classifier.classifier_numba\u001B[0m:\u001B[36mrun_experiment\u001B[0m:\u001B[36m186\u001B[0m - \u001B[1mAccuracy: 0.5891252955082742\u001B[0m\n",
      "\u001B[32m2023-08-23 15:19:25.186\u001B[0m | \u001B[1mINFO    \u001B[0m | \u001B[36mdpcl_classifier.classifier_numba\u001B[0m:\u001B[36mrun_experiment\u001B[0m:\u001B[36m175\u001B[0m - \u001B[1m-------- Run 40 --------\u001B[0m\n",
      "\u001B[32m2023-08-23 15:19:28.969\u001B[0m | \u001B[1mINFO    \u001B[0m | \u001B[36mdpcl_classifier.classifier_numba\u001B[0m:\u001B[36mrun_experiment\u001B[0m:\u001B[36m185\u001B[0m - \u001B[1mTime = 3.7820963859558105\u001B[0m\n",
      "\u001B[32m2023-08-23 15:19:28.970\u001B[0m | \u001B[1mINFO    \u001B[0m | \u001B[36mdpcl_classifier.classifier_numba\u001B[0m:\u001B[36mrun_experiment\u001B[0m:\u001B[36m186\u001B[0m - \u001B[1mAccuracy: 0.5881796690307328\u001B[0m\n",
      "\u001B[32m2023-08-23 15:19:28.970\u001B[0m | \u001B[1mINFO    \u001B[0m | \u001B[36mdpcl_classifier.classifier_numba\u001B[0m:\u001B[36mrun_experiment\u001B[0m:\u001B[36m175\u001B[0m - \u001B[1m-------- Run 41 --------\u001B[0m\n",
      "\u001B[32m2023-08-23 15:19:32.756\u001B[0m | \u001B[1mINFO    \u001B[0m | \u001B[36mdpcl_classifier.classifier_numba\u001B[0m:\u001B[36mrun_experiment\u001B[0m:\u001B[36m185\u001B[0m - \u001B[1mTime = 3.786311388015747\u001B[0m\n",
      "\u001B[32m2023-08-23 15:19:32.757\u001B[0m | \u001B[1mINFO    \u001B[0m | \u001B[36mdpcl_classifier.classifier_numba\u001B[0m:\u001B[36mrun_experiment\u001B[0m:\u001B[36m186\u001B[0m - \u001B[1mAccuracy: 0.5895981087470449\u001B[0m\n",
      "\u001B[32m2023-08-23 15:19:32.757\u001B[0m | \u001B[1mINFO    \u001B[0m | \u001B[36mdpcl_classifier.classifier_numba\u001B[0m:\u001B[36mrun_experiment\u001B[0m:\u001B[36m175\u001B[0m - \u001B[1m-------- Run 42 --------\u001B[0m\n",
      "\u001B[32m2023-08-23 15:19:36.643\u001B[0m | \u001B[1mINFO    \u001B[0m | \u001B[36mdpcl_classifier.classifier_numba\u001B[0m:\u001B[36mrun_experiment\u001B[0m:\u001B[36m185\u001B[0m - \u001B[1mTime = 3.8850269317626953\u001B[0m\n",
      "\u001B[32m2023-08-23 15:19:36.644\u001B[0m | \u001B[1mINFO    \u001B[0m | \u001B[36mdpcl_classifier.classifier_numba\u001B[0m:\u001B[36mrun_experiment\u001B[0m:\u001B[36m186\u001B[0m - \u001B[1mAccuracy: 0.5895981087470449\u001B[0m\n",
      "\u001B[32m2023-08-23 15:19:36.644\u001B[0m | \u001B[1mINFO    \u001B[0m | \u001B[36mdpcl_classifier.classifier_numba\u001B[0m:\u001B[36mrun_experiment\u001B[0m:\u001B[36m175\u001B[0m - \u001B[1m-------- Run 43 --------\u001B[0m\n",
      "\u001B[32m2023-08-23 15:19:40.434\u001B[0m | \u001B[1mINFO    \u001B[0m | \u001B[36mdpcl_classifier.classifier_numba\u001B[0m:\u001B[36mrun_experiment\u001B[0m:\u001B[36m185\u001B[0m - \u001B[1mTime = 3.7894446849823\u001B[0m\n",
      "\u001B[32m2023-08-23 15:19:40.434\u001B[0m | \u001B[1mINFO    \u001B[0m | \u001B[36mdpcl_classifier.classifier_numba\u001B[0m:\u001B[36mrun_experiment\u001B[0m:\u001B[36m186\u001B[0m - \u001B[1mAccuracy: 0.5820330969267139\u001B[0m\n",
      "\u001B[32m2023-08-23 15:19:40.435\u001B[0m | \u001B[1mINFO    \u001B[0m | \u001B[36mdpcl_classifier.classifier_numba\u001B[0m:\u001B[36mrun_experiment\u001B[0m:\u001B[36m175\u001B[0m - \u001B[1m-------- Run 44 --------\u001B[0m\n",
      "\u001B[32m2023-08-23 15:19:44.105\u001B[0m | \u001B[1mINFO    \u001B[0m | \u001B[36mdpcl_classifier.classifier_numba\u001B[0m:\u001B[36mrun_experiment\u001B[0m:\u001B[36m185\u001B[0m - \u001B[1mTime = 3.669684886932373\u001B[0m\n",
      "\u001B[32m2023-08-23 15:19:44.106\u001B[0m | \u001B[1mINFO    \u001B[0m | \u001B[36mdpcl_classifier.classifier_numba\u001B[0m:\u001B[36mrun_experiment\u001B[0m:\u001B[36m186\u001B[0m - \u001B[1mAccuracy: 0.5872340425531914\u001B[0m\n",
      "\u001B[32m2023-08-23 15:19:44.106\u001B[0m | \u001B[1mINFO    \u001B[0m | \u001B[36mdpcl_classifier.classifier_numba\u001B[0m:\u001B[36mrun_experiment\u001B[0m:\u001B[36m175\u001B[0m - \u001B[1m-------- Run 45 --------\u001B[0m\n",
      "\u001B[32m2023-08-23 15:19:47.900\u001B[0m | \u001B[1mINFO    \u001B[0m | \u001B[36mdpcl_classifier.classifier_numba\u001B[0m:\u001B[36mrun_experiment\u001B[0m:\u001B[36m185\u001B[0m - \u001B[1mTime = 3.7935845851898193\u001B[0m\n",
      "\u001B[32m2023-08-23 15:19:47.901\u001B[0m | \u001B[1mINFO    \u001B[0m | \u001B[36mdpcl_classifier.classifier_numba\u001B[0m:\u001B[36mrun_experiment\u001B[0m:\u001B[36m186\u001B[0m - \u001B[1mAccuracy: 0.5877068557919621\u001B[0m\n",
      "\u001B[32m2023-08-23 15:19:47.901\u001B[0m | \u001B[1mINFO    \u001B[0m | \u001B[36mdpcl_classifier.classifier_numba\u001B[0m:\u001B[36mrun_experiment\u001B[0m:\u001B[36m175\u001B[0m - \u001B[1m-------- Run 46 --------\u001B[0m\n"
     ]
    },
    {
     "ename": "KeyboardInterrupt",
     "evalue": "",
     "output_type": "error",
     "traceback": [
      "\u001B[0;31m---------------------------------------------------------------------------\u001B[0m",
      "\u001B[0;31mKeyboardInterrupt\u001B[0m                         Traceback (most recent call last)",
      "Cell \u001B[0;32mIn[3], line 2\u001B[0m\n\u001B[1;32m      1\u001B[0m \u001B[38;5;28mprint\u001B[39m(\u001B[38;5;124m\"\u001B[39m\u001B[38;5;124mRunning experiment with saved parameters:\u001B[39m\u001B[38;5;124m\"\u001B[39m, saved_parameters)\n\u001B[0;32m----> 2\u001B[0m \u001B[43mrun_experiment\u001B[49m\u001B[43m(\u001B[49m\u001B[38;5;241;43m*\u001B[39;49m\u001B[38;5;241;43m*\u001B[39;49m\u001B[43msaved_parameters\u001B[49m\u001B[43m)\u001B[49m\n",
      "File \u001B[0;32m/run/media/per/6ae969b6-0afc-498f-a39d-711ac09c8f811/git/code/dpcl_classifier/dpcl_classifier/dpcl_classifier/classifier_numba.py:181\u001B[0m, in \u001B[0;36mrun_experiment\u001B[0;34m(states, epochs, clauses, runs, pl, pu)\u001B[0m\n\u001B[1;32m    178\u001B[0m start \u001B[38;5;241m=\u001B[39m time\u001B[38;5;241m.\u001B[39mtime()\n\u001B[1;32m    179\u001B[0m n \u001B[38;5;241m=\u001B[39m X_train_filtered\u001B[38;5;241m.\u001B[39mshape[\u001B[38;5;241m1\u001B[39m]\n\u001B[0;32m--> 181\u001B[0m result \u001B[38;5;241m=\u001B[39m \u001B[43mTMC\u001B[49m\u001B[43m(\u001B[49m\u001B[43mn\u001B[49m\u001B[43m,\u001B[49m\u001B[43m \u001B[49m\u001B[43mepochs\u001B[49m\u001B[43m,\u001B[49m\u001B[43m \u001B[49m\u001B[43mX_train_filtered\u001B[49m\u001B[43m,\u001B[49m\u001B[43m \u001B[49m\u001B[43mY_train_filtered\u001B[49m\u001B[43m,\u001B[49m\u001B[43m \u001B[49m\u001B[43mclauses\u001B[49m\u001B[43m,\u001B[49m\u001B[43m \u001B[49m\u001B[43mstates\u001B[49m\u001B[43m,\u001B[49m\u001B[43m \u001B[49m\u001B[43mprobs\u001B[49m\u001B[43m)\u001B[49m\n\u001B[1;32m    182\u001B[0m accuracy \u001B[38;5;241m=\u001B[39m evaluate_model(result, states, clauses, n, X_test_filtered, Y_test_filtered)\n\u001B[1;32m    183\u001B[0m Accuracies\u001B[38;5;241m.\u001B[39mappend(accuracy)\n",
      "File \u001B[0;32m~/.cache/pypoetry/virtualenvs/dpcl-classifier-o9oj7Z7q-py3.11/lib/python3.11/site-packages/numba/core/serialize.py:30\u001B[0m, in \u001B[0;36m_numba_unpickle\u001B[0;34m(address, bytedata, hashed)\u001B[0m\n\u001B[1;32m     26\u001B[0m \u001B[38;5;66;03m# Keep unpickled object via `numba_unpickle` alive.\u001B[39;00m\n\u001B[1;32m     27\u001B[0m _unpickled_memo \u001B[38;5;241m=\u001B[39m {}\n\u001B[0;32m---> 30\u001B[0m \u001B[38;5;28;01mdef\u001B[39;00m \u001B[38;5;21m_numba_unpickle\u001B[39m(address, bytedata, hashed):\n\u001B[1;32m     31\u001B[0m \u001B[38;5;250m    \u001B[39m\u001B[38;5;124;03m\"\"\"Used by `numba_unpickle` from _helperlib.c\u001B[39;00m\n\u001B[1;32m     32\u001B[0m \n\u001B[1;32m     33\u001B[0m \u001B[38;5;124;03m    Parameters\u001B[39;00m\n\u001B[0;32m   (...)\u001B[0m\n\u001B[1;32m     42\u001B[0m \u001B[38;5;124;03m        unpickled object\u001B[39;00m\n\u001B[1;32m     43\u001B[0m \u001B[38;5;124;03m    \"\"\"\u001B[39;00m\n\u001B[1;32m     44\u001B[0m     key \u001B[38;5;241m=\u001B[39m (address, hashed)\n",
      "\u001B[0;31mKeyboardInterrupt\u001B[0m: "
     ]
    }
   ],
   "source": [
    "print(\"Running experiment with saved parameters:\", saved_parameters)\n",
    "run_experiment(**saved_parameters)\n"
   ],
   "metadata": {
    "collapsed": false,
    "ExecuteTime": {
     "end_time": "2023-08-23T13:19:51.026246010Z",
     "start_time": "2023-08-23T13:16:50.214331631Z"
    }
   },
   "id": "3278a726b168099e"
  },
  {
   "cell_type": "code",
   "execution_count": null,
   "outputs": [],
   "source": [],
   "metadata": {
    "collapsed": false,
    "ExecuteTime": {
     "end_time": "2023-08-23T13:19:51.026482694Z",
     "start_time": "2023-08-23T13:19:51.026426502Z"
    }
   },
   "id": "65a6cf83a587680f"
  }
 ],
 "metadata": {
  "kernelspec": {
   "display_name": "Python 3",
   "language": "python",
   "name": "python3"
  },
  "language_info": {
   "codemirror_mode": {
    "name": "ipython",
    "version": 2
   },
   "file_extension": ".py",
   "mimetype": "text/x-python",
   "name": "python",
   "nbconvert_exporter": "python",
   "pygments_lexer": "ipython2",
   "version": "2.7.6"
  }
 },
 "nbformat": 4,
 "nbformat_minor": 5
}
